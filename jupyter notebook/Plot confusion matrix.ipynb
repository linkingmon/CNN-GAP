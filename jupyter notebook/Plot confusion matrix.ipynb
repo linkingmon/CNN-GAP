{
 "cells": [
  {
   "cell_type": "code",
   "execution_count": 1,
   "metadata": {},
   "outputs": [],
   "source": [
    "import os\n",
    "from sklearn.model_selection import train_test_split\n",
    "import pickle\n",
    "import torch\n",
    "import torch.nn as nn\n",
    "import torch.optim as optim\n",
    "from torch.utils.data.dataset import Dataset\n",
    "from torch.utils.data import DataLoader\n",
    "import torch.nn.functional as F\n",
    "import numpy as np\n",
    "import matplotlib.pyplot as plt\n",
    "from sklearn.utils.class_weight import compute_class_weight\n",
    "import sys\n",
    "sys.path.insert(0, r'C:\\Users\\USER\\Desktop\\CNN_GAP')\n",
    "from utils.preprocess import pad_sequences\n",
    "from utils.F1 import F1\n",
    "from net.FS import FS\n",
    "from net.FE import FE\n",
    "from net.net2 import CNN_GAP2\n",
    "from dataset.mydataset import myDataset\n",
    "from scipy.signal import resample"
   ]
  },
  {
   "cell_type": "code",
   "execution_count": 2,
   "metadata": {},
   "outputs": [
    {
     "name": "stdout",
     "output_type": "stream",
     "text": [
      "# of Xtrain: 8528\n",
      "Shape of Ytrain (8528,)\n"
     ]
    }
   ],
   "source": [
    "Xtrain = None\n",
    "with open('../Xtrain', 'rb') as fp:\n",
    "    Xtrain = pickle.load(fp)\n",
    "\n",
    "Ytrain = np.load('../Ytrain.npy')\n",
    "\n",
    "print('# of Xtrain:', len(Xtrain))\n",
    "print('Shape of Ytrain', Ytrain.shape)\n"
   ]
  },
  {
   "cell_type": "code",
   "execution_count": 3,
   "metadata": {},
   "outputs": [
    {
     "name": "stdout",
     "output_type": "stream",
     "text": [
      "(8244,)\n",
      "(8244,)\n"
     ]
    }
   ],
   "source": [
    "idx = np.where(Ytrain == 3)\n",
    "Xtrain_won = np.delete(Xtrain, idx, axis=0)\n",
    "Ytrain_won = np.delete(Ytrain, idx, axis=0)\n",
    "print(Xtrain_won.shape)\n",
    "print(Ytrain_won.shape)"
   ]
  },
  {
   "cell_type": "code",
   "execution_count": 4,
   "metadata": {},
   "outputs": [],
   "source": [
    "Xtrain_new = []\n",
    "Ytrain_new = []\n",
    "cut_len = 9000\n",
    "thres = 0.65\n",
    "for i in range(len(Xtrain_won)):\n",
    "    cut = len(Xtrain_won[i]) // cut_len\n",
    "    for j in range(1, cut+1):\n",
    "        Xtrain_new.append(Xtrain_won[i][(j-1)*cut_len:j*cut_len])\n",
    "        Ytrain_new.append(Ytrain_won[i])        \n",
    "    if len(Xtrain_won[i]) % cut_len >= int(cut_len*thres):\n",
    "        x_remain = Xtrain_won[i][cut*cut_len:]\n",
    "        remainder = cut_len - len(x_remain)\n",
    "        Xtrain_new.append(np.pad(x_remain, (int(remainder/2), remainder - int(remainder/2)), 'constant', constant_values=0))\n",
    "        Ytrain_new.append(Ytrain_won[i])"
   ]
  },
  {
   "cell_type": "code",
   "execution_count": 5,
   "metadata": {},
   "outputs": [
    {
     "name": "stdout",
     "output_type": "stream",
     "text": [
      "(8738, 1, 9000) (8738,)\n"
     ]
    }
   ],
   "source": [
    "train_data = np.array(Xtrain_new).reshape(len(Ytrain_new),1,cut_len)\n",
    "train_label = np.array(Ytrain_new)\n",
    "print(train_data.shape, train_label.shape)"
   ]
  },
  {
   "cell_type": "code",
   "execution_count": 6,
   "metadata": {},
   "outputs": [
    {
     "name": "stdout",
     "output_type": "stream",
     "text": [
      "torch.Size([6116, 1, 9000]) torch.Size([6116]) torch.Size([2622, 1, 9000]) torch.Size([2622])\n"
     ]
    }
   ],
   "source": [
    "train_data, valid_data, train_label, valid_label = train_test_split(train_data, train_label, test_size=0.3, random_state=42)\n",
    "train_data = torch.from_numpy(train_data).float()\n",
    "valid_data = torch.from_numpy(valid_data).float()\n",
    "train_label = torch.from_numpy(train_label).long()\n",
    "valid_label = torch.from_numpy(valid_label).long()\n",
    "print(train_data.shape, train_label.shape, valid_data.shape, valid_label.shape)"
   ]
  },
  {
   "cell_type": "code",
   "execution_count": 7,
   "metadata": {},
   "outputs": [],
   "source": [
    "try:\n",
    "    os.mkdir('confusion matrix')\n",
    "except:\n",
    "    pass"
   ]
  },
  {
   "cell_type": "code",
   "execution_count": 8,
   "metadata": {},
   "outputs": [],
   "source": [
    "filename = 'model3/'\n",
    "file_list = os.listdir(filename)\n",
    "file_list.sort()\n",
    "end_name = file_list[-2].split('_')[2]"
   ]
  },
  {
   "cell_type": "code",
   "execution_count": 9,
   "metadata": {},
   "outputs": [
    {
     "name": "stdout",
     "output_type": "stream",
     "text": [
      "Load from:  model3/model_enc_00080-0.92528-0.92631-0.85965-0.83339.h5\n",
      "Load from:  model3/model_sel_00080-0.92528-0.92631-0.85965-0.83339.h5\n"
     ]
    },
    {
     "data": {
      "text/plain": [
       "FS(\n",
       "  (outlayer): Linear(in_features=64, out_features=3, bias=True)\n",
       ")"
      ]
     },
     "execution_count": 9,
     "metadata": {},
     "output_type": "execute_result"
    }
   ],
   "source": [
    "enc = FE(int(cut_len/8))\n",
    "sel = FS()\n",
    "print(\"Load from: \",filename+'model_enc_'+end_name)\n",
    "print(\"Load from: \",filename+'model_sel_'+end_name)\n",
    "enc.load_state_dict(torch.load(filename+'model_enc_'+end_name))\n",
    "sel.load_state_dict(torch.load(filename+'model_sel_'+end_name))\n",
    "enc = enc.cuda()\n",
    "sel = sel.cuda()\n",
    "enc.eval()\n",
    "sel.eval()"
   ]
  },
  {
   "cell_type": "code",
   "execution_count": 10,
   "metadata": {},
   "outputs": [
    {
     "name": "stdout",
     "output_type": "stream",
     "text": [
      "Calculate 1310\r"
     ]
    }
   ],
   "source": [
    "batch_size = 2\n",
    "validloader = DataLoader(myDataset(valid_data, valid_label, is_train=False), batch_size=batch_size)  # no aug. for valid data\n",
    "\n",
    "pred_label = []\n",
    "\n",
    "for i, data in enumerate(validloader, 0):\n",
    "    if i % 5 == 0:\n",
    "        print('Calculate %4d'% i, end = '\\r')\n",
    "    inputs, labels = data\n",
    "    inputs = inputs.cuda()\n",
    "    labels = labels.cuda()\n",
    "\n",
    "    # forward + backward + optimize\n",
    "    outputs = sel(enc(inputs))\n",
    "    predict_labels = torch.argmax(outputs, dim=1).cpu().numpy()\n",
    "    pred_label.append(predict_labels)"
   ]
  },
  {
   "cell_type": "code",
   "execution_count": 11,
   "metadata": {},
   "outputs": [
    {
     "name": "stdout",
     "output_type": "stream",
     "text": [
      "Confusion matrix, without normalization\n",
      "[[1428    6  150]\n",
      " [  12  182   31]\n",
      " [ 132   37  644]]\n",
      "Normalized confusion matrix\n",
      "[[0.9  0.   0.09]\n",
      " [0.05 0.81 0.14]\n",
      " [0.16 0.05 0.79]]\n"
     ]
    },
    {
     "data": {
      "image/png": "[encoded data removed]",
      "text/plain": [
       "<Figure size 432x288 with 2 Axes>"
      ]
     },
     "metadata": {
      "needs_background": "light"
     },
     "output_type": "display_data"
    },
    {
     "data": {
      "image/png": "[encoded data removed]",
      "text/plain": [
       "<Figure size 432x288 with 2 Axes>"
      ]
     },
     "metadata": {
      "needs_background": "light"
     },
     "output_type": "display_data"
    }
   ],
   "source": [
    "from sklearn.metrics import confusion_matrix\n",
    "from sklearn.utils.multiclass import unique_labels\n",
    "\n",
    "def plot_confusion_matrix(y_true, y_pred, classes,\n",
    "                          normalize=False,\n",
    "                          title=None,\n",
    "                          cmap=plt.cm.Blues):\n",
    "    \"\"\"\n",
    "    This function prints and plots the confusion matrix.\n",
    "    Normalization can be applied by setting `normalize=True`.\n",
    "    \"\"\"\n",
    "    if not title:\n",
    "        if normalize:\n",
    "            title = 'Normalized confusion matrix'\n",
    "        else:\n",
    "            title = 'Confusion matrix, without normalization'\n",
    "\n",
    "    # Compute confusion matrix\n",
    "    cm = confusion_matrix(y_true, y_pred)\n",
    "    # Only use the labels that appear in the data\n",
    "    classes = classes[unique_labels(y_true, y_pred)]\n",
    "    if normalize:\n",
    "        cm = cm.astype('float') / cm.sum(axis=1)[:, np.newaxis]\n",
    "        print(\"Normalized confusion matrix\")\n",
    "    else:\n",
    "        print('Confusion matrix, without normalization')\n",
    "\n",
    "    print(cm)\n",
    "\n",
    "    fig, ax = plt.subplots()\n",
    "    im = ax.imshow(cm, interpolation='nearest', cmap=cmap)\n",
    "    ax.figure.colorbar(im, ax=ax)\n",
    "    # We want to show all ticks...\n",
    "    ax.set(xticks=np.arange(cm.shape[1]),\n",
    "           yticks=np.arange(cm.shape[0]),\n",
    "           # ... and label them with the respective list entries\n",
    "           xticklabels=classes, yticklabels=classes,\n",
    "           title=title,\n",
    "           ylabel='True label',\n",
    "           xlabel='Predicted label')\n",
    "\n",
    "    # Rotate the tick labels and set their alignment.\n",
    "    plt.setp(ax.get_xticklabels(), rotation=45, ha=\"right\",\n",
    "             rotation_mode=\"anchor\")\n",
    "\n",
    "    # Loop over data dimensions and create text annotations.\n",
    "    fmt = '.2f' if normalize else 'd'\n",
    "    thresh = cm.max() / 2.\n",
    "    for i in range(cm.shape[0]):\n",
    "        for j in range(cm.shape[1]):\n",
    "            ax.text(j, i, format(cm[i, j], fmt),\n",
    "                    ha=\"center\", va=\"center\",\n",
    "                    color=\"white\" if cm[i, j] > thresh else \"black\")\n",
    "    fig.tight_layout()\n",
    "    return ax\n",
    "\n",
    "\n",
    "np.set_printoptions(precision=2)\n",
    "y_test = valid_label.numpy()\n",
    "y_pred = np.array(pred_label).reshape(-1)\n",
    "class_names = np.array(['N','A','O'])\n",
    "# Plot non-normalized confusion matrix\n",
    "plot_confusion_matrix(y_test, y_pred, classes=class_names,\n",
    "                      title='Confusion matrix, without normalization')\n",
    "plt.savefig('confusion matrix/'+filename[:-1]+'_unnorm.jpg')\n",
    "\n",
    "# Plot normalized confusion matrix\n",
    "plot_confusion_matrix(y_test, y_pred, classes=class_names, normalize=True,\n",
    "                      title='Normalized confusion matrix')\n",
    "\n",
    "plt.savefig('confusion matrix/'+filename[:-1]+'_norm.jpg')"
   ]
  }
 ],
 "metadata": {
  "kernelspec": {
   "display_name": "Python 3",
   "language": "python",
   "name": "python3"
  },
  "language_info": {
   "codemirror_mode": {
    "name": "ipython",
    "version": 3
   },
   "file_extension": ".py",
   "mimetype": "text/x-python",
   "name": "python",
   "nbconvert_exporter": "python",
   "pygments_lexer": "ipython3",
   "version": "3.6.8"
  }
 },
 "nbformat": 4,
 "nbformat_minor": 2
}
