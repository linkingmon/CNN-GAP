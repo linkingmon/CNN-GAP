{
 "cells": [
  {
   "cell_type": "code",
   "execution_count": 1,
   "metadata": {},
   "outputs": [],
   "source": [
    "import os\n",
    "from sklearn.model_selection import train_test_split\n",
    "import pickle\n",
    "import torch\n",
    "import torch.nn as nn\n",
    "import torch.optim as optim\n",
    "from torch.utils.data.dataset import Dataset\n",
    "from torch.utils.data import DataLoader\n",
    "import torch.nn.functional as F\n",
    "import numpy as np\n",
    "import matplotlib.pyplot as plt\n",
    "from sklearn.utils.class_weight import compute_class_weight\n",
    "import sys\n",
    "sys.path.insert(0, r'C:\\Users\\USER\\Desktop\\CNN_GAP')\n",
    "from utils.preprocess import pad_sequences\n",
    "from utils.F1 import F1\n",
    "from net.FS import FS\n",
    "from net.FE2 import FE\n",
    "from dataset.mydataset import myDataset\n",
    "from scipy.signal import resample"
   ]
  },
  {
   "cell_type": "code",
   "execution_count": 2,
   "metadata": {},
   "outputs": [
    {
     "name": "stdout",
     "output_type": "stream",
     "text": [
      "# of Xtrain: 8528\n",
      "Shape of Ytrain (8528,)\n"
     ]
    }
   ],
   "source": [
    "Xtrain = None\n",
    "with open('../Xtrain', 'rb') as fp:\n",
    "    Xtrain = pickle.load(fp)\n",
    "\n",
    "Ytrain = np.load('../Ytrain.npy')\n",
    "\n",
    "print('# of Xtrain:', len(Xtrain))\n",
    "print('Shape of Ytrain', Ytrain.shape)\n"
   ]
  },
  {
   "cell_type": "code",
   "execution_count": 3,
   "metadata": {},
   "outputs": [
    {
     "name": "stdout",
     "output_type": "stream",
     "text": [
      "(8244,)\n",
      "(8244,)\n"
     ]
    }
   ],
   "source": [
    "idx = np.where(Ytrain == 3)\n",
    "Xtrain_won = np.delete(Xtrain, idx, axis=0)\n",
    "Ytrain_won = np.delete(Ytrain, idx, axis=0)\n",
    "print(Xtrain_won.shape)\n",
    "print(Ytrain_won.shape)"
   ]
  },
  {
   "cell_type": "code",
   "execution_count": 4,
   "metadata": {},
   "outputs": [],
   "source": [
    "Xtrain_new = []\n",
    "Ytrain_new = []\n",
    "cut_len = 9000\n",
    "thres = 0.65\n",
    "for i in range(len(Xtrain_won)):\n",
    "    cut = len(Xtrain_won[i]) // cut_len\n",
    "    for j in range(1, cut+1):\n",
    "        Xtrain_new.append(Xtrain_won[i][(j-1)*cut_len:j*cut_len])\n",
    "        Ytrain_new.append(Ytrain_won[i])        \n",
    "    if len(Xtrain_won[i]) % cut_len >= int(cut_len*thres):\n",
    "        x_remain = Xtrain_won[i][cut*cut_len:]\n",
    "        remainder = cut_len - len(x_remain)\n",
    "        Xtrain_new.append(np.pad(x_remain, (int(remainder/2), remainder - int(remainder/2)), 'constant', constant_values=0))\n",
    "        Ytrain_new.append(Ytrain_won[i])"
   ]
  },
  {
   "cell_type": "code",
   "execution_count": 5,
   "metadata": {},
   "outputs": [
    {
     "name": "stdout",
     "output_type": "stream",
     "text": [
      "(8738, 1, 9000) (8738,)\n"
     ]
    }
   ],
   "source": [
    "train_data = np.array(Xtrain_new).reshape(len(Ytrain_new),1,cut_len)\n",
    "train_label = np.array(Ytrain_new)\n",
    "print(train_data.shape, train_label.shape)"
   ]
  },
  {
   "cell_type": "code",
   "execution_count": 6,
   "metadata": {},
   "outputs": [
    {
     "name": "stdout",
     "output_type": "stream",
     "text": [
      "torch.Size([6116, 1, 9000]) torch.Size([6116]) torch.Size([2622, 1, 9000]) torch.Size([2622])\n"
     ]
    }
   ],
   "source": [
    "train_data, valid_data, train_label, valid_label = train_test_split(train_data, train_label, test_size=0.3, random_state=42)\n",
    "train_data = torch.from_numpy(train_data).float()\n",
    "valid_data = torch.from_numpy(valid_data).float()\n",
    "train_label = torch.from_numpy(train_label).long()\n",
    "valid_label = torch.from_numpy(valid_label).long()\n",
    "print(train_data.shape, train_label.shape, valid_data.shape, valid_label.shape)"
   ]
  },
  {
   "cell_type": "code",
   "execution_count": 7,
   "metadata": {},
   "outputs": [],
   "source": [
    "filename = 'model4/'\n",
    "file_list = os.listdir(filename)\n",
    "file_list.sort()\n",
    "end_name = file_list[-2].split('_')[2]"
   ]
  },
  {
   "cell_type": "code",
   "execution_count": 8,
   "metadata": {},
   "outputs": [
    {
     "name": "stdout",
     "output_type": "stream",
     "text": [
      "Load from:  model4/model_enc_00093-0.93329-0.93756-0.86728-0.83723.h5\n",
      "Load from:  model4/model_sel_00093-0.93329-0.93756-0.86728-0.83723.h5\n"
     ]
    }
   ],
   "source": [
    "enc = FE(int(cut_len/8))\n",
    "sel = FS()\n",
    "print(\"Load from: \",filename+'model_enc_'+end_name)\n",
    "print(\"Load from: \",filename+'model_sel_'+end_name)\n",
    "enc.load_state_dict(torch.load(filename+'model_enc_'+end_name))\n",
    "sel.load_state_dict(torch.load(filename+'model_sel_'+end_name))\n",
    "enc = enc.cuda()\n",
    "sel = sel.cuda()\n",
    "enc = enc.eval()\n",
    "sel = sel.eval()"
   ]
  },
  {
   "cell_type": "code",
   "execution_count": 9,
   "metadata": {},
   "outputs": [],
   "source": [
    "train_data = train_data.cuda()\n",
    "valid_data = valid_data.cuda()"
   ]
  },
  {
   "cell_type": "code",
   "execution_count": 10,
   "metadata": {},
   "outputs": [],
   "source": [
    "type_map = ['N','A','O','~']"
   ]
  },
  {
   "cell_type": "code",
   "execution_count": 11,
   "metadata": {},
   "outputs": [],
   "source": [
    "\n",
    "try:\n",
    "    os.mkdir('GAP')\n",
    "except:\n",
    "    pass\n",
    "try:\n",
    "    os.mkdir('GAP/'+filename)\n",
    "except:\n",
    "    pass\n",
    "try:\n",
    "    os.mkdir('GAP/'+filename+'train_CAM0')\n",
    "except:\n",
    "    pass\n",
    "try:\n",
    "    os.mkdir('GAP/'+filename+'train_CAM1')\n",
    "except:\n",
    "    pass\n",
    "try:\n",
    "    os.mkdir('GAP/'+filename+'valid_CAM0')\n",
    "except:\n",
    "    pass\n",
    "try:\n",
    "    os.mkdir('GAP/'+filename+'valid_CAM1')\n",
    "except:\n",
    "    pass"
   ]
  },
  {
   "cell_type": "code",
   "execution_count": 12,
   "metadata": {},
   "outputs": [],
   "source": [
    "def cal_CAM(i, is_train=True):\n",
    "    x = None\n",
    "    y = None\n",
    "    if is_train:\n",
    "        x, y = enc(train_data[i:i+1])\n",
    "        x = sel(x)\n",
    "    else:\n",
    "        x, y = enc(valid_data[i:i+1])\n",
    "        x = sel(x)\n",
    "    predict_label = np.argmax(x.cpu().detach().numpy()[0])\n",
    "    if is_train:\n",
    "        weight = sel.outlayer.weight[train_label[i]].cpu().detach().numpy()    \n",
    "    else:\n",
    "        weight = sel.outlayer.weight[valid_label[i]].cpu().detach().numpy()  \n",
    "    wave = np.zeros(int(cut_len/8))\n",
    "    for idx in range(64):\n",
    "        wave += (weight[idx]) * (y[:,idx].cpu().detach().numpy()[0])\n",
    "    return wave, predict_label"
   ]
  },
  {
   "cell_type": "code",
   "execution_count": 13,
   "metadata": {},
   "outputs": [],
   "source": [
    "def draw_CAM(idx, is_train=True):\n",
    "    org = None\n",
    "    wave = None\n",
    "    predict_label = None\n",
    "    if is_train:\n",
    "        org = train_data[idx].cpu().numpy().reshape(cut_len,)\n",
    "        wave, predict_label = cal_CAM(idx)\n",
    "    else:\n",
    "        org = valid_data[idx].cpu().numpy().reshape(cut_len,)\n",
    "        wave, predict_label = cal_CAM(idx, is_train=False)\n",
    "    wave = resample(wave, cut_len)\n",
    "    thres = 12\n",
    "    org_t = (wave > thres) * org\n",
    "    org_t[org_t == 0] = None\n",
    "    print('plotting index', idx)\n",
    "    correct = None\n",
    "    if is_train:\n",
    "        correct = ((train_label[idx] == predict_label).cpu().numpy())\n",
    "    else:\n",
    "        correct = ((valid_label[idx] == predict_label).cpu().numpy())\n",
    "    plt.clf()\n",
    "    plt.subplot(3,1,1)\n",
    "    plt.plot(org[2500:7500])\n",
    "    plt.plot(org_t[2500:7500], 'r')\n",
    "    if correct:\n",
    "        plt.title('original waveform (%c)' % type_map[predict_label])\n",
    "    else:\n",
    "        if is_train:\n",
    "            plt.title('original waveform (True label: %c, predict: %c)' % (type_map[train_label[idx]], type_map[predict_label]))\n",
    "        else:\n",
    "            plt.title('original waveform (True label: %c, predict: %c)' % (type_map[valid_label[idx]], type_map[predict_label]))\n",
    "    plt.subplot(3,1,3)\n",
    "    plt.plot(wave[2500:7500])\n",
    "    plt.title('CAM')\n",
    "    if is_train:\n",
    "        if correct:\n",
    "            plt.savefig('GAP/'+filename+'train_CAM1/'+str(idx)+'.jpg',dpi=600)\n",
    "        else:\n",
    "            plt.savefig('GAP/'+filename+'train_CAM0/'+str(idx)+'.jpg',dpi=600)\n",
    "    else:\n",
    "        if correct:\n",
    "            plt.savefig('GAP/'+filename+'valid_CAM1/'+str(idx)+'.jpg',dpi=600)\n",
    "        else:\n",
    "            plt.savefig('GAP/'+filename+'valid_CAM0/'+str(idx)+'.jpg',dpi=600)"
   ]
  },
  {
   "cell_type": "code",
   "execution_count": 14,
   "metadata": {},
   "outputs": [
    {
     "name": "stdout",
     "output_type": "stream",
     "text": [
      "plotting index 0\n",
      "plotting index 0\n",
      "plotting index 1\n",
      "plotting index 1\n",
      "plotting index 2\n",
      "plotting index 2\n",
      "plotting index 3\n",
      "plotting index 3\n",
      "plotting index 4\n",
      "plotting index 4\n",
      "plotting index 5\n",
      "plotting index 5\n",
      "plotting index 6\n",
      "plotting index 6\n",
      "plotting index 7\n",
      "plotting index 7\n",
      "plotting index 8\n",
      "plotting index 8\n",
      "plotting index 9\n",
      "plotting index 9\n",
      "plotting index 10\n",
      "plotting index 10\n",
      "plotting index 11\n",
      "plotting index 11\n",
      "plotting index 12\n",
      "plotting index 12\n",
      "plotting index 13\n",
      "plotting index 13\n",
      "plotting index 14\n",
      "plotting index 14\n",
      "plotting index 15\n",
      "plotting index 15\n",
      "plotting index 16\n",
      "plotting index 16\n",
      "plotting index 17\n",
      "plotting index 17\n",
      "plotting index 18\n",
      "plotting index 18\n",
      "plotting index 19\n",
      "plotting index 19\n",
      "plotting index 20\n",
      "plotting index 20\n",
      "plotting index 21\n",
      "plotting index 21\n",
      "plotting index 22\n",
      "plotting index 22\n",
      "plotting index 23\n",
      "plotting index 23\n",
      "plotting index 24\n",
      "plotting index 24\n",
      "plotting index 25\n",
      "plotting index 25\n",
      "plotting index 26\n",
      "plotting index 26\n",
      "plotting index 27\n",
      "plotting index 27\n",
      "plotting index 28\n",
      "plotting index 28\n",
      "plotting index 29\n",
      "plotting index 29\n",
      "plotting index 30\n",
      "plotting index 30\n",
      "plotting index 31\n",
      "plotting index 31\n",
      "plotting index 32\n",
      "plotting index 32\n",
      "plotting index 33\n",
      "plotting index 33\n",
      "plotting index 34\n",
      "plotting index 34\n",
      "plotting index 35\n",
      "plotting index 35\n",
      "plotting index 36\n",
      "plotting index 36\n",
      "plotting index 37\n",
      "plotting index 37\n",
      "plotting index 38\n",
      "plotting index 38\n",
      "plotting index 39\n",
      "plotting index 39\n",
      "plotting index 40\n",
      "plotting index 40\n",
      "plotting index 41\n",
      "plotting index 41\n",
      "plotting index 42\n",
      "plotting index 42\n",
      "plotting index 43\n",
      "plotting index 43\n",
      "plotting index 44\n",
      "plotting index 44\n",
      "plotting index 45\n",
      "plotting index 45\n",
      "plotting index 46\n",
      "plotting index 46\n",
      "plotting index 47\n",
      "plotting index 47\n",
      "plotting index 48\n",
      "plotting index 48\n",
      "plotting index 49\n",
      "plotting index 49\n",
      "plotting index 50\n",
      "plotting index 50\n",
      "plotting index 51\n",
      "plotting index 51\n",
      "plotting index 52\n",
      "plotting index 52\n",
      "plotting index 53\n",
      "plotting index 53\n",
      "plotting index 54\n",
      "plotting index 54\n",
      "plotting index 55\n",
      "plotting index 55\n",
      "plotting index 56\n",
      "plotting index 56\n",
      "plotting index 57\n",
      "plotting index 57\n",
      "plotting index 58\n",
      "plotting index 58\n",
      "plotting index 59\n",
      "plotting index 59\n",
      "plotting index 60\n",
      "plotting index 60\n",
      "plotting index 61\n",
      "plotting index 61\n",
      "plotting index 62\n",
      "plotting index 62\n",
      "plotting index 63\n",
      "plotting index 63\n",
      "plotting index 64\n",
      "plotting index 64\n",
      "plotting index 65\n",
      "plotting index 65\n",
      "plotting index 66\n",
      "plotting index 66\n",
      "plotting index 67\n",
      "plotting index 67\n",
      "plotting index 68\n",
      "plotting index 68\n",
      "plotting index 69\n",
      "plotting index 69\n",
      "plotting index 70\n",
      "plotting index 70\n",
      "plotting index 71\n",
      "plotting index 71\n",
      "plotting index 72\n",
      "plotting index 72\n",
      "plotting index 73\n",
      "plotting index 73\n",
      "plotting index 74\n",
      "plotting index 74\n",
      "plotting index 75\n",
      "plotting index 75\n",
      "plotting index 76\n",
      "plotting index 76\n",
      "plotting index 77\n",
      "plotting index 77\n",
      "plotting index 78\n",
      "plotting index 78\n",
      "plotting index 79\n",
      "plotting index 79\n",
      "plotting index 80\n",
      "plotting index 80\n",
      "plotting index 81\n",
      "plotting index 81\n",
      "plotting index 82\n",
      "plotting index 82\n",
      "plotting index 83\n",
      "plotting index 83\n",
      "plotting index 84\n",
      "plotting index 84\n",
      "plotting index 85\n",
      "plotting index 85\n",
      "plotting index 86\n",
      "plotting index 86\n",
      "plotting index 87\n",
      "plotting index 87\n",
      "plotting index 88\n",
      "plotting index 88\n",
      "plotting index 89\n",
      "plotting index 89\n",
      "plotting index 90\n",
      "plotting index 90\n",
      "plotting index 91\n",
      "plotting index 91\n",
      "plotting index 92\n",
      "plotting index 92\n",
      "plotting index 93\n",
      "plotting index 93\n",
      "plotting index 94\n",
      "plotting index 94\n",
      "plotting index 95\n",
      "plotting index 95\n",
      "plotting index 96\n",
      "plotting index 96\n",
      "plotting index 97\n",
      "plotting index 97\n",
      "plotting index 98\n",
      "plotting index 98\n",
      "plotting index 99\n",
      "plotting index 99\n"
     ]
    },
    {
     "data": {
      "image/png": "[encoded data removed]",
      "text/plain": [
       "<Figure size 432x288 with 2 Axes>"
      ]
     },
     "metadata": {
      "needs_background": "light"
     },
     "output_type": "display_data"
    }
   ],
   "source": [
    "for idx in range(100):\n",
    "    draw_CAM(idx)\n",
    "    draw_CAM(idx, is_train=False)"
   ]
  }
 ],
 "metadata": {
  "kernelspec": {
   "display_name": "Python 3",
   "language": "python",
   "name": "python3"
  },
  "language_info": {
   "codemirror_mode": {
    "name": "ipython",
    "version": 3
   },
   "file_extension": ".py",
   "mimetype": "text/x-python",
   "name": "python",
   "nbconvert_exporter": "python",
   "pygments_lexer": "ipython3",
   "version": "3.6.8"
  }
 },
 "nbformat": 4,
 "nbformat_minor": 2
}
