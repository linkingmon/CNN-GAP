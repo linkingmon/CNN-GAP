{
 "cells": [
  {
   "cell_type": "code",
   "execution_count": 1,
   "metadata": {},
   "outputs": [],
   "source": [
    "import sys\n",
    "sys.path.insert(0, r'../')\n",
    "from sklearn.utils.class_weight import compute_class_weight\n",
    "import matplotlib.pyplot as plt\n",
    "import numpy as np\n",
    "import torch.nn.functional as F\n",
    "from torch.utils.data import DataLoader\n",
    "from torch.utils.data.dataset import Dataset\n",
    "import torch.optim as optim\n",
    "import torch.nn as nn\n",
    "import torch\n",
    "import pickle\n",
    "from sklearn.model_selection import train_test_split\n",
    "import os\n",
    "from utils.f1_loss import f1_loss\n",
    "from utils.re_loss import re_loss\n",
    "from utils.pre_loss import pre_loss"
   ]
  },
  {
   "cell_type": "code",
   "execution_count": 2,
   "metadata": {},
   "outputs": [],
   "source": [
    "data_in = torch.tensor([[0.2,0.8,0,0],[0.1,0.8,0.1,0],[0.2,0.2,0.2,0.4],[0.2,0,0.7,0.1],[1.0,0,0,0],[0.2,0,0.7,0.1],[0.2,0.8,0,0]])\n",
    "data_in.requires_grad = True"
   ]
  },
  {
   "cell_type": "code",
   "execution_count": 3,
   "metadata": {},
   "outputs": [],
   "source": [
    "data_true = torch.tensor([0,1,3,2,2,2,3])"
   ]
  },
  {
   "cell_type": "code",
   "execution_count": 4,
   "metadata": {},
   "outputs": [],
   "source": [
    "# class_weight = compute_class_weight('balanced', [0, 1, 2, 3], data_true.numpy())\n",
    "# criterion = nn.CrossEntropyLoss(weight=torch.tensor(class_weight).float()).cuda()"
   ]
  },
  {
   "cell_type": "code",
   "execution_count": 5,
   "metadata": {},
   "outputs": [],
   "source": [
    "data_in2 = data_in.clone()\n",
    "data_in3 = data_in.clone()\n",
    "data_in4 = data_in.clone()"
   ]
  },
  {
   "cell_type": "code",
   "execution_count": 6,
   "metadata": {},
   "outputs": [],
   "source": [
    "data_in = data_in.cuda()\n",
    "data_in2 = data_in2.cuda()\n",
    "data_in3 = data_in3.cuda()\n",
    "data_in4 = data_in4.cuda()\n",
    "data_true = data_true.cuda()"
   ]
  },
  {
   "cell_type": "code",
   "execution_count": 7,
   "metadata": {},
   "outputs": [
    {
     "name": "stdout",
     "output_type": "stream",
     "text": [
      "[-0.0321233831346035]\n"
     ]
    },
    {
     "ename": "NameError",
     "evalue": "name 'jj' is not defined",
     "output_type": "error",
     "traceback": [
      "\u001b[1;31m---------------------------------------------------------------------------\u001b[0m",
      "\u001b[1;31mNameError\u001b[0m                                 Traceback (most recent call last)",
      "\u001b[1;32m<ipython-input-7-bf69ccce733d>\u001b[0m in \u001b[0;36m<module>\u001b[1;34m\u001b[0m\n\u001b[0;32m     14\u001b[0m     \u001b[0mg_f1\u001b[0m\u001b[1;33m.\u001b[0m\u001b[0mappend\u001b[0m\u001b[1;33m(\u001b[0m\u001b[0mdata_in2\u001b[0m\u001b[1;33m.\u001b[0m\u001b[0mgrad\u001b[0m\u001b[1;33m[\u001b[0m\u001b[1;36m0\u001b[0m\u001b[1;33m]\u001b[0m\u001b[1;33m[\u001b[0m\u001b[1;36m0\u001b[0m\u001b[1;33m]\u001b[0m\u001b[1;33m.\u001b[0m\u001b[0mcpu\u001b[0m\u001b[1;33m(\u001b[0m\u001b[1;33m)\u001b[0m\u001b[1;33m.\u001b[0m\u001b[0mdetach\u001b[0m\u001b[1;33m(\u001b[0m\u001b[1;33m)\u001b[0m\u001b[1;33m.\u001b[0m\u001b[0mnumpy\u001b[0m\u001b[1;33m(\u001b[0m\u001b[1;33m)\u001b[0m\u001b[1;33m.\u001b[0m\u001b[0mtolist\u001b[0m\u001b[1;33m(\u001b[0m\u001b[1;33m)\u001b[0m\u001b[1;33m)\u001b[0m\u001b[1;33m\u001b[0m\u001b[1;33m\u001b[0m\u001b[0m\n\u001b[0;32m     15\u001b[0m     \u001b[0mprint\u001b[0m\u001b[1;33m(\u001b[0m\u001b[0mg_f1\u001b[0m\u001b[1;33m)\u001b[0m\u001b[1;33m\u001b[0m\u001b[1;33m\u001b[0m\u001b[0m\n\u001b[1;32m---> 16\u001b[1;33m     \u001b[0mjj\u001b[0m\u001b[1;33m\u001b[0m\u001b[1;33m\u001b[0m\u001b[0m\n\u001b[0m\u001b[0;32m     17\u001b[0m     \u001b[0mdata_in2\u001b[0m \u001b[1;33m=\u001b[0m \u001b[0mdata_in2\u001b[0m \u001b[1;33m-\u001b[0m \u001b[0mdata_in2\u001b[0m\u001b[1;33m.\u001b[0m\u001b[0mgrad\u001b[0m\u001b[1;33m*\u001b[0m\u001b[0ml_rate\u001b[0m\u001b[1;33m\u001b[0m\u001b[1;33m\u001b[0m\u001b[0m\n\u001b[0;32m     18\u001b[0m     \u001b[0mp_f1\u001b[0m\u001b[1;33m.\u001b[0m\u001b[0mappend\u001b[0m\u001b[1;33m(\u001b[0m\u001b[0mdata_in2\u001b[0m\u001b[1;33m[\u001b[0m\u001b[1;36m0\u001b[0m\u001b[1;33m]\u001b[0m\u001b[1;33m[\u001b[0m\u001b[1;36m0\u001b[0m\u001b[1;33m]\u001b[0m\u001b[1;33m.\u001b[0m\u001b[0mcpu\u001b[0m\u001b[1;33m(\u001b[0m\u001b[1;33m)\u001b[0m\u001b[1;33m.\u001b[0m\u001b[0mdetach\u001b[0m\u001b[1;33m(\u001b[0m\u001b[1;33m)\u001b[0m\u001b[1;33m.\u001b[0m\u001b[0mnumpy\u001b[0m\u001b[1;33m(\u001b[0m\u001b[1;33m)\u001b[0m\u001b[1;33m.\u001b[0m\u001b[0mtolist\u001b[0m\u001b[1;33m(\u001b[0m\u001b[1;33m)\u001b[0m\u001b[1;33m)\u001b[0m\u001b[1;33m\u001b[0m\u001b[1;33m\u001b[0m\u001b[0m\n",
      "\u001b[1;31mNameError\u001b[0m: name 'jj' is not defined"
     ]
    }
   ],
   "source": [
    "p_f1 = []\n",
    "p_re = []\n",
    "p_pre = []\n",
    "g_f1 = []\n",
    "g_re = []\n",
    "g_pre = []\n",
    "epoch = 1000\n",
    "l_rate = 0.01\n",
    "\n",
    "for i in range(epoch):\n",
    "    f1 = f1_loss(data_in2,data_true,n_class=4)\n",
    "    data_in2.retain_grad()\n",
    "    f1.backward()\n",
    "    g_f1.append(data_in2.grad[0][0].cpu().detach().numpy().tolist())\n",
    "    data_in2 = data_in2 - data_in2.grad*l_rate\n",
    "    p_f1.append(data_in2[0][0].cpu().detach().numpy().tolist())\n",
    "for i in range(epoch):\n",
    "    re = re_loss(data_in3,data_true,n_class=4)\n",
    "    data_in3.retain_grad()\n",
    "    re.backward()\n",
    "    g_re.append(data_in3.grad[0][0].cpu().detach().numpy().tolist())\n",
    "    data_in3 = data_in3 - data_in3.grad*l_rate\n",
    "    p_re.append(data_in3[0][0].cpu().detach().numpy().tolist())\n",
    "for i in range(epoch):\n",
    "    pre = pre_loss(data_in4,data_true,n_class=4)\n",
    "    data_in4.retain_grad()\n",
    "    pre.backward()\n",
    "    g_pre.append(data_in4.grad[0][0].cpu().detach().numpy().tolist())\n",
    "    data_in4 = data_in4 - data_in4.grad*l_rate\n",
    "    p_pre.append(data_in4[0][0].cpu().detach().numpy().tolist())"
   ]
  },
  {
   "cell_type": "code",
   "execution_count": null,
   "metadata": {},
   "outputs": [],
   "source": [
    "p2_f1 = [(1-t)**2 for t in p_f1]\n",
    "p2_re = [(1-t)**2 for t in p_re]\n",
    "p2_pre = [(1-t)**2 for t in p_pre]"
   ]
  },
  {
   "cell_type": "code",
   "execution_count": null,
   "metadata": {},
   "outputs": [],
   "source": [
    "plt.plot(np.arange(epoch),p2_f1)\n",
    "plt.plot(np.arange(epoch),p2_re)\n",
    "plt.plot(np.arange(epoch),p2_pre)\n",
    "plt.legend(('f1', 're', 'pre'))\n",
    "plt.title('A1-mse to epoch')\n",
    "plt.xlabel('epoch')\n",
    "plt.ylabel('A1-mse')\n",
    "plt.show()"
   ]
  },
  {
   "cell_type": "code",
   "execution_count": null,
   "metadata": {},
   "outputs": [],
   "source": [
    "plt.plot(np.arange(epoch),g_f1)\n",
    "plt.plot(np.arange(epoch),g_re)\n",
    "plt.plot(np.arange(epoch),g_pre)\n",
    "plt.legend(('f1', 're', 'pre'))\n",
    "plt.title('A1-grad to epoch')\n",
    "plt.xlabel('epoch')\n",
    "plt.ylabel('A1-grad')\n",
    "plt.show()"
   ]
  },
  {
   "cell_type": "code",
   "execution_count": null,
   "metadata": {},
   "outputs": [],
   "source": []
  }
 ],
 "metadata": {
  "kernelspec": {
   "display_name": "Python 3",
   "language": "python",
   "name": "python3"
  },
  "language_info": {
   "codemirror_mode": {
    "name": "ipython",
    "version": 3
   },
   "file_extension": ".py",
   "mimetype": "text/x-python",
   "name": "python",
   "nbconvert_exporter": "python",
   "pygments_lexer": "ipython3",
   "version": "3.6.8"
  }
 },
 "nbformat": 4,
 "nbformat_minor": 2
}
